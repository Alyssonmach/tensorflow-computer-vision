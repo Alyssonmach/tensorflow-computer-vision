{
  "nbformat": 4,
  "nbformat_minor": 0,
  "metadata": {
    "accelerator": "TPU",
    "colab": {
      "name": "w1_lab3.ipynb",
      "provenance": [],
      "collapsed_sections": [],
      "include_colab_link": true
    },
    "kernelspec": {
      "display_name": "Python 3",
      "language": "python",
      "name": "python3"
    },
    "language_info": {
      "codemirror_mode": {
        "name": "ipython",
        "version": 3
      },
      "file_extension": ".py",
      "mimetype": "text/x-python",
      "name": "python",
      "nbconvert_exporter": "python",
      "pygments_lexer": "ipython3",
      "version": "3.7.4"
    }
  },
  "cells": [
    {
      "cell_type": "markdown",
      "metadata": {
        "id": "view-in-github",
        "colab_type": "text"
      },
      "source": [
        "<a href=\"https://colab.research.google.com/github/Alyssonmach/tensorflow-computer-vision/blob/main/week1/w1_lab3.ipynb\" target=\"_parent\"><img src=\"https://colab.research.google.com/assets/colab-badge.svg\" alt=\"Open In Colab\"/></a>"
      ]
    },
    {
      "cell_type": "markdown",
      "metadata": {
        "id": "KsjDCIat6_UK"
      },
      "source": [
        "# Image Classification and Object Localization\n",
        "\n",
        "In this lab, you'll build a CNN from scratch to:\n",
        "- classify the main subject in an image\n",
        "- localize it by drawing bounding boxes around it.\n",
        "\n",
        "You'll use the [MNIST](http://yann.lecun.com/exdb/mnist/) dataset to synthesize a custom dataset for the task:\n",
        "- Place each \"digit\" image on a black canvas of width 75 x 75 at random locations.\n",
        "- Calculate the corresponding bounding boxes for those \"digits\".\n",
        "\n",
        "The bounding box prediction can be modelled as a \"regression\" task, which means that the model will predict a numeric value (as opposed to a category)."
      ]
    },
    {
      "cell_type": "markdown",
      "metadata": {
        "id": "qpiJj8ym0v0-"
      },
      "source": [
        "## Imports"
      ]
    },
    {
      "cell_type": "code",
      "metadata": {
        "id": "DR4p6XY1Ipsm"
      },
      "source": [
        "import os, re, time, json\n",
        "import PIL.Image, PIL.ImageFont, PIL.ImageDraw\n",
        "import numpy as np\n",
        "try:\n",
        "  %tensorflow_version 2.x\n",
        "except Exception:\n",
        "  pass\n",
        "import tensorflow as tf\n",
        "import matplotlib.pyplot as plt\n",
        "import tensorflow_datasets as tfds\n",
        "import urllib.request"
      ],
      "execution_count": 1,
      "outputs": []
    },
    {
      "cell_type": "code",
      "metadata": {
        "colab": {
          "base_uri": "https://localhost:8080/"
        },
        "id": "XsZ-jhDzJC0o",
        "outputId": "ae604e0c-36ab-4839-8f4e-1d2a2a775ad1"
      },
      "source": [
        "print('Tensorflow version ' + tf.__version__)"
      ],
      "execution_count": 2,
      "outputs": [
        {
          "output_type": "stream",
          "text": [
            "Tensorflow version 2.5.0\n"
          ],
          "name": "stdout"
        }
      ]
    },
    {
      "cell_type": "markdown",
      "metadata": {
        "id": "xmoFKEd98MP3"
      },
      "source": [
        "# Visualization Utilities\n",
        "\n",
        "These functions are used to draw bounding boxes around the digits."
      ]
    },
    {
      "cell_type": "code",
      "metadata": {
        "id": "YaFRlXlnJL7Z"
      },
      "source": [
        "im_width = 75\n",
        "im_height = 75\n",
        "use_normalized_coordinates = True"
      ],
      "execution_count": 3,
      "outputs": []
    },
    {
      "cell_type": "code",
      "metadata": {
        "id": "50o9bCIWJWQ3"
      },
      "source": [
        "def draw_bounding_boxes_on_image_array(image, boxes, color=list(), thickness=1, display_str_list=()):\n",
        "   \"\"\"\n",
        "   Draws bounding boxes on image (numpy array).\n",
        "      Args:\n",
        "        image: a numpy array object.\n",
        "        boxes: a 2 dimensional numpy array of [N, 4]: (ymin, xmin, ymax, xmax).\n",
        "              The coordinates are in normalized format between [0, 1].\n",
        "        color: color to draw bounding box. Default is red.\n",
        "        thickness: line thickness. Default value is 4.\n",
        "        display_str_list_list: a list of strings for each bounding box.\n",
        "      Raises:\n",
        "        ValueError: if boxes is not a [N, 4] array\n",
        "   \"\"\"\n",
        "   image_pil = PIL.Image.fromarray(image)\n",
        "   rgbimg = PIL.Image.new(\"RGBA\", image_pil.size)\n",
        "   rgbimg.paste(image_pil)\n",
        "   draw_bounding_boxes_on_image(rgbimg, boxes, color, thickness, display_str_list)\n",
        "   \n",
        "   return np.array(rgbimg)\n"
      ],
      "execution_count": 4,
      "outputs": []
    },
    {
      "cell_type": "code",
      "metadata": {
        "id": "dkcPFKCJge4J"
      },
      "source": [
        "def draw_bounding_boxes_on_image(image, boxes, color=[], thickness=1, display_str_list=()):\n",
        "  \"\"\"\n",
        "    Draws bounding boxes on image.\n",
        "      Args:\n",
        "        image: a PIL.Image object.\n",
        "        boxes: a 2 dimensional numpy array of [N, 4]: (ymin, xmin, ymax, xmax).\n",
        "              The coordinates are in normalized format between [0, 1].\n",
        "        color: color to draw bounding box. Default is red.\n",
        "        thickness: line thickness. Default value is 4.\n",
        "        display_str_list: a list of strings for each bounding box.\n",
        "                              \n",
        "      Raises:\n",
        "        ValueError: if boxes is not a [N, 4] array\n",
        "  \"\"\"\n",
        "\n",
        "  boxes_shape = boxes.shape\n",
        "  if not boxes_shape:\n",
        "    return\n",
        "  if len(boxes_shape) != 2 or boxes_shape[1] != 4:\n",
        "    raise ValueError('Input must be of size [N, 4]')\n",
        "  for i in range(boxes_shape[0]):\n",
        "    draw_bounding_box_on_image(image, boxes[i, 1], boxes[i, 0], boxes[i, 3], boxes[i, 2], \n",
        "                               color[i], thickness, display_str_list[i])"
      ],
      "execution_count": 5,
      "outputs": []
    },
    {
      "cell_type": "code",
      "metadata": {
        "id": "rhiGY2IYLQlK"
      },
      "source": [
        "def draw_bounding_box_on_image(image, ymin, xmin, ymax, xmax, color='red', thickness=1, display_str=None, use_normalized_coordinates=True):\n",
        "  \"\"\"\n",
        "  Adds a bounding box to an image.\n",
        "      Bounding box coordinates can be specified in either absolute (pixel) or\n",
        "      normalized coordinates by setting the use_normalized_coordinates argument.\n",
        "      Args:\n",
        "        image: a PIL.Image object.\n",
        "        ymin: ymin of bounding box.\n",
        "        xmin: xmin of bounding box.\n",
        "        ymax: ymax of bounding box.\n",
        "        xmax: xmax of bounding box.\n",
        "        color: color to draw bounding box. Default is red.\n",
        "        thickness: line thickness. Default value is 4.\n",
        "        display_str_list: string to display in box\n",
        "        use_normalized_coordinates: If True (default), treat coordinates\n",
        "          ymin, xmin, ymax, xmax as relative to the image.  Otherwise treat\n",
        "          coordinates as absolute.\n",
        "  \"\"\"\n",
        "\n",
        "  draw = PIL.ImageDraw.Draw(image)\n",
        "  im_width, im_height = image.size\n",
        "  if use_normalized_coordinates:\n",
        "    (left, right, top, bottom) = (xmin * im_width, xmax * im_width, ymin * im_height, ymax * im_height)\n",
        "  else:\n",
        "    (left, right, top, bottom) = (xmin, xmax, ymin, ymax)\n",
        "  draw.line([(left, top), (left, bottom), (right, bottom), (right, top), (left, top)],\n",
        "            width=thickness, fill=color)"
      ],
      "execution_count": 6,
      "outputs": []
    },
    {
      "cell_type": "markdown",
      "metadata": {
        "id": "USx9tRBF8hWy"
      },
      "source": [
        "These utilities are used to visualize the data and predictions."
      ]
    },
    {
      "cell_type": "code",
      "metadata": {
        "colab": {
          "base_uri": "https://localhost:8080/"
        },
        "id": "NabBkwrzR0wY",
        "outputId": "e3538671-2d77-412e-b773-8421a42bea53"
      },
      "source": [
        "config_file = 'https://raw.githubusercontent.com/Alyssonmach/tensorflow-computer-vision/main/week1/utils/config_jupyter.py'\n",
        "filename = 'config_jupyter.py'\n",
        "urllib.request.urlretrieve(config_file, filename)"
      ],
      "execution_count": 7,
      "outputs": [
        {
          "output_type": "execute_result",
          "data": {
            "text/plain": [
              "('config_jupyter.py', <http.client.HTTPMessage at 0x7eff00187210>)"
            ]
          },
          "metadata": {
            "tags": []
          },
          "execution_count": 7
        }
      ]
    },
    {
      "cell_type": "code",
      "metadata": {
        "id": "DIFTQrPWSDNg"
      },
      "source": [
        "\"\"\"\n",
        "This cell contains helper functions used for visualization\n",
        "and downloads only. \n",
        "\n",
        "You can skip reading it, as there is very\n",
        "little Keras or Tensorflow related code here.\n",
        "\"\"\"\n",
        "from config_jupyter import *\n",
        "from config_jupyter import dataset_to_numpy_util\n",
        "from config_jupyter import create_digits_from_local_fonts\n",
        "from config_jupyter import display_digits_with_boxes\n",
        "from config_jupyter import plot_metrics"
      ],
      "execution_count": 8,
      "outputs": []
    },
    {
      "cell_type": "markdown",
      "metadata": {
        "id": "_Ok__0RB-M8S"
      },
      "source": [
        "## Selecting Between Strategies"
      ]
    },
    {
      "cell_type": "markdown",
      "metadata": {
        "id": "R4jujVYWY9-6"
      },
      "source": [
        "### TPU or GPU detection\n",
        "\n",
        "Depending on the hardware available, you'll use different distribution strategies.  For a review on distribution strategies, please check out the second course in this specialization [\"Custom and Distributed Training with TensorFlow\"](https://www.coursera.org/learn/custom-distributed-training-with-tensorflow), week 4, \"Distributed Training\".\n",
        "\n",
        "- If the TPU is available, then you'll be using the TPU Strategy.\n",
        "Otherwise:\n",
        "- If more than one GPU is available, then you'll use the Mirrored Strategy\n",
        "- If one GPU is available or if just the CPU is available, you'll use the default strategy."
      ]
    },
    {
      "cell_type": "code",
      "metadata": {
        "colab": {
          "base_uri": "https://localhost:8080/"
        },
        "id": "2N0bVsbETKzq",
        "outputId": "5013929b-366c-4fb9-c667-23eba6c46bd3"
      },
      "source": [
        "# Detect hardware\n",
        "try:\n",
        "  tpu = tf.distribute.cluster_resolver.TPUClusterResolver() # TPU detection\n",
        "except ValueError:\n",
        "  tpu = None\n",
        "  gpus = tf.config.experimental.list_logical_devices('GPU')\n",
        "\n",
        "# Select appropriate distribuition strategy\n",
        "if tpu:\n",
        "  tf.config.experimental_connect_to_cluster(tpu)\n",
        "  tf.tpu.experimental.initialize_tpu_system(tpu)\n",
        "  # Going back and forth between TPU and host is expensive.\n",
        "  # Better to run 128 batches on the TPU before reporting back\n",
        "  strategy = tf.distribute.experimental.TPUStrategy(tpu) \n",
        "  print('Running on TPU ', tpu.cluster_spec().as_dict()['worker'])  \n",
        "elif len(gpus) > 1:\n",
        "  strategy = tf.distribute.MirroredStrategy([gpu.name for gpu in gpus])\n",
        "  print('Running on multiple GPUs ', [gpu.name for gpu in gpus])\n",
        "elif len(gpus) == 1:\n",
        "  strategy = tf.distribute.get_strategy() # default strategy that works on CPU and single GPU\n",
        "  print('Running on single GPU ', gpus[0].name)\n",
        "else:\n",
        "  strategy = tf.distribute.get_strategy() # default strategy that works on CPU and single GPU\n",
        "  print('Running on CPU')\n",
        "print(\"Number of accelerators: \", strategy.num_replicas_in_sync)"
      ],
      "execution_count": 9,
      "outputs": [
        {
          "output_type": "stream",
          "text": [
            "INFO:tensorflow:Initializing the TPU system: grpc://10.53.215.50:8470\n"
          ],
          "name": "stdout"
        },
        {
          "output_type": "stream",
          "text": [
            "INFO:tensorflow:Initializing the TPU system: grpc://10.53.215.50:8470\n"
          ],
          "name": "stderr"
        },
        {
          "output_type": "stream",
          "text": [
            "INFO:tensorflow:Clearing out eager caches\n"
          ],
          "name": "stdout"
        },
        {
          "output_type": "stream",
          "text": [
            "INFO:tensorflow:Clearing out eager caches\n"
          ],
          "name": "stderr"
        },
        {
          "output_type": "stream",
          "text": [
            "INFO:tensorflow:Finished initializing TPU system.\n"
          ],
          "name": "stdout"
        },
        {
          "output_type": "stream",
          "text": [
            "INFO:tensorflow:Finished initializing TPU system.\n",
            "WARNING:absl:`tf.distribute.experimental.TPUStrategy` is deprecated, please use  the non experimental symbol `tf.distribute.TPUStrategy` instead.\n"
          ],
          "name": "stderr"
        },
        {
          "output_type": "stream",
          "text": [
            "INFO:tensorflow:Found TPU system:\n"
          ],
          "name": "stdout"
        },
        {
          "output_type": "stream",
          "text": [
            "INFO:tensorflow:Found TPU system:\n"
          ],
          "name": "stderr"
        },
        {
          "output_type": "stream",
          "text": [
            "INFO:tensorflow:*** Num TPU Cores: 8\n"
          ],
          "name": "stdout"
        },
        {
          "output_type": "stream",
          "text": [
            "INFO:tensorflow:*** Num TPU Cores: 8\n"
          ],
          "name": "stderr"
        },
        {
          "output_type": "stream",
          "text": [
            "INFO:tensorflow:*** Num TPU Workers: 1\n"
          ],
          "name": "stdout"
        },
        {
          "output_type": "stream",
          "text": [
            "INFO:tensorflow:*** Num TPU Workers: 1\n"
          ],
          "name": "stderr"
        },
        {
          "output_type": "stream",
          "text": [
            "INFO:tensorflow:*** Num TPU Cores Per Worker: 8\n"
          ],
          "name": "stdout"
        },
        {
          "output_type": "stream",
          "text": [
            "INFO:tensorflow:*** Num TPU Cores Per Worker: 8\n"
          ],
          "name": "stderr"
        },
        {
          "output_type": "stream",
          "text": [
            "INFO:tensorflow:*** Available Device: _DeviceAttributes(/job:localhost/replica:0/task:0/device:CPU:0, CPU, 0, 0)\n"
          ],
          "name": "stdout"
        },
        {
          "output_type": "stream",
          "text": [
            "INFO:tensorflow:*** Available Device: _DeviceAttributes(/job:localhost/replica:0/task:0/device:CPU:0, CPU, 0, 0)\n"
          ],
          "name": "stderr"
        },
        {
          "output_type": "stream",
          "text": [
            "INFO:tensorflow:*** Available Device: _DeviceAttributes(/job:worker/replica:0/task:0/device:CPU:0, CPU, 0, 0)\n"
          ],
          "name": "stdout"
        },
        {
          "output_type": "stream",
          "text": [
            "INFO:tensorflow:*** Available Device: _DeviceAttributes(/job:worker/replica:0/task:0/device:CPU:0, CPU, 0, 0)\n"
          ],
          "name": "stderr"
        },
        {
          "output_type": "stream",
          "text": [
            "INFO:tensorflow:*** Available Device: _DeviceAttributes(/job:worker/replica:0/task:0/device:TPU:0, TPU, 0, 0)\n"
          ],
          "name": "stdout"
        },
        {
          "output_type": "stream",
          "text": [
            "INFO:tensorflow:*** Available Device: _DeviceAttributes(/job:worker/replica:0/task:0/device:TPU:0, TPU, 0, 0)\n"
          ],
          "name": "stderr"
        },
        {
          "output_type": "stream",
          "text": [
            "INFO:tensorflow:*** Available Device: _DeviceAttributes(/job:worker/replica:0/task:0/device:TPU:1, TPU, 0, 0)\n"
          ],
          "name": "stdout"
        },
        {
          "output_type": "stream",
          "text": [
            "INFO:tensorflow:*** Available Device: _DeviceAttributes(/job:worker/replica:0/task:0/device:TPU:1, TPU, 0, 0)\n"
          ],
          "name": "stderr"
        },
        {
          "output_type": "stream",
          "text": [
            "INFO:tensorflow:*** Available Device: _DeviceAttributes(/job:worker/replica:0/task:0/device:TPU:2, TPU, 0, 0)\n"
          ],
          "name": "stdout"
        },
        {
          "output_type": "stream",
          "text": [
            "INFO:tensorflow:*** Available Device: _DeviceAttributes(/job:worker/replica:0/task:0/device:TPU:2, TPU, 0, 0)\n"
          ],
          "name": "stderr"
        },
        {
          "output_type": "stream",
          "text": [
            "INFO:tensorflow:*** Available Device: _DeviceAttributes(/job:worker/replica:0/task:0/device:TPU:3, TPU, 0, 0)\n"
          ],
          "name": "stdout"
        },
        {
          "output_type": "stream",
          "text": [
            "INFO:tensorflow:*** Available Device: _DeviceAttributes(/job:worker/replica:0/task:0/device:TPU:3, TPU, 0, 0)\n"
          ],
          "name": "stderr"
        },
        {
          "output_type": "stream",
          "text": [
            "INFO:tensorflow:*** Available Device: _DeviceAttributes(/job:worker/replica:0/task:0/device:TPU:4, TPU, 0, 0)\n"
          ],
          "name": "stdout"
        },
        {
          "output_type": "stream",
          "text": [
            "INFO:tensorflow:*** Available Device: _DeviceAttributes(/job:worker/replica:0/task:0/device:TPU:4, TPU, 0, 0)\n"
          ],
          "name": "stderr"
        },
        {
          "output_type": "stream",
          "text": [
            "INFO:tensorflow:*** Available Device: _DeviceAttributes(/job:worker/replica:0/task:0/device:TPU:5, TPU, 0, 0)\n"
          ],
          "name": "stdout"
        },
        {
          "output_type": "stream",
          "text": [
            "INFO:tensorflow:*** Available Device: _DeviceAttributes(/job:worker/replica:0/task:0/device:TPU:5, TPU, 0, 0)\n"
          ],
          "name": "stderr"
        },
        {
          "output_type": "stream",
          "text": [
            "INFO:tensorflow:*** Available Device: _DeviceAttributes(/job:worker/replica:0/task:0/device:TPU:6, TPU, 0, 0)\n"
          ],
          "name": "stdout"
        },
        {
          "output_type": "stream",
          "text": [
            "INFO:tensorflow:*** Available Device: _DeviceAttributes(/job:worker/replica:0/task:0/device:TPU:6, TPU, 0, 0)\n"
          ],
          "name": "stderr"
        },
        {
          "output_type": "stream",
          "text": [
            "INFO:tensorflow:*** Available Device: _DeviceAttributes(/job:worker/replica:0/task:0/device:TPU:7, TPU, 0, 0)\n"
          ],
          "name": "stdout"
        },
        {
          "output_type": "stream",
          "text": [
            "INFO:tensorflow:*** Available Device: _DeviceAttributes(/job:worker/replica:0/task:0/device:TPU:7, TPU, 0, 0)\n"
          ],
          "name": "stderr"
        },
        {
          "output_type": "stream",
          "text": [
            "INFO:tensorflow:*** Available Device: _DeviceAttributes(/job:worker/replica:0/task:0/device:TPU_SYSTEM:0, TPU_SYSTEM, 0, 0)\n"
          ],
          "name": "stdout"
        },
        {
          "output_type": "stream",
          "text": [
            "INFO:tensorflow:*** Available Device: _DeviceAttributes(/job:worker/replica:0/task:0/device:TPU_SYSTEM:0, TPU_SYSTEM, 0, 0)\n"
          ],
          "name": "stderr"
        },
        {
          "output_type": "stream",
          "text": [
            "INFO:tensorflow:*** Available Device: _DeviceAttributes(/job:worker/replica:0/task:0/device:XLA_CPU:0, XLA_CPU, 0, 0)\n"
          ],
          "name": "stdout"
        },
        {
          "output_type": "stream",
          "text": [
            "INFO:tensorflow:*** Available Device: _DeviceAttributes(/job:worker/replica:0/task:0/device:XLA_CPU:0, XLA_CPU, 0, 0)\n"
          ],
          "name": "stderr"
        },
        {
          "output_type": "stream",
          "text": [
            "Running on TPU  ['10.53.215.50:8470']\n",
            "Number of accelerators:  8\n"
          ],
          "name": "stdout"
        }
      ]
    },
    {
      "cell_type": "markdown",
      "metadata": {
        "id": "Lvo0t7XVIkWZ"
      },
      "source": [
        "### Parameters\n",
        "\n",
        "The global batch size is the batch size per replica (64 in this case) times the number of replicas in the distribution strategy."
      ]
    },
    {
      "cell_type": "code",
      "metadata": {
        "id": "vMvOHjQdWwFS"
      },
      "source": [
        "# Global batch size\n",
        "BATCH_SIZE = 64 * strategy.num_replicas_in_sync "
      ],
      "execution_count": 10,
      "outputs": []
    },
    {
      "cell_type": "markdown",
      "metadata": {
        "id": "JVkc7nzg-WUy"
      },
      "source": [
        "## Loading and Preprocessing the Dataset\n",
        "\n",
        "Define some helper functions that will pre-process your data:\n",
        "- `read_image_tfds`: randomly overlays the \"digit\" image on top of a larger canvas.\n",
        "- `get_training_dataset`: loads data and splits it to get the training set.\n",
        "- `get_validation_dataset`: loads and splits the data to get the validation set."
      ]
    },
    {
      "cell_type": "code",
      "metadata": {
        "id": "kEXnIFXEacly"
      },
      "source": [
        "'''\n",
        "Transforms each image in dataset by pasting it on a 75x75 canvas at random locations\n",
        "'''\n",
        "def read_image_tfds(image, label):\n",
        "    xmin = tf.random.uniform((), 0 , 48, dtype=tf.int32)\n",
        "    ymin = tf.random.uniform((), 0 , 48, dtype=tf.int32)\n",
        "    image = tf.reshape(image, (28,28,1,))\n",
        "    image = tf.image.pad_to_bounding_box(image, ymin, xmin, 75, 75)\n",
        "    image = tf.cast(image, tf.float32)/255.0\n",
        "    xmin = tf.cast(xmin, tf.float32)\n",
        "    ymin = tf.cast(ymin, tf.float32)\n",
        "   \n",
        "    xmax = (xmin + 28) / 75\n",
        "    ymax = (ymin + 28) / 75\n",
        "    xmin = xmin / 75\n",
        "    ymin = ymin / 75\n",
        "    \n",
        "    return image, (tf.one_hot(label, 10), [xmin, ymin, xmax, ymax])"
      ],
      "execution_count": 11,
      "outputs": []
    },
    {
      "cell_type": "code",
      "metadata": {
        "id": "ScYMN3JwcDVf"
      },
      "source": [
        "'''\n",
        "Loads and maps the training split of the dataset using the map function. \n",
        "Note that we try to load the gcs version since TPU can only work with datasets on Google Cloud Storage.\n",
        "'''\n",
        "def get_training_dataset():\n",
        "\n",
        "  with strategy.scope():\n",
        "    dataset = tfds.load('mnist', split='train', as_supervised=True, try_gcs=True)\n",
        "    dataset = dataset.map(read_image_tfds, num_parallel_calls=16)\n",
        "    dataset = dataset.shuffle(5000, reshuffle_each_iteration=True)\n",
        "    dataset = dataset.repeat() # Mandatory for Keras for now\n",
        "    # drop_remainder is important on TPU, batch size must be fixed\n",
        "    dataset = dataset.batch(BATCH_SIZE, drop_remainder=True)\n",
        "    # fetch next batches while training on the current one (-1: autotune prefetch buffer size)\n",
        "    dataset = dataset.prefetch(-1)\n",
        "\n",
        "    return dataset"
      ],
      "execution_count": 12,
      "outputs": []
    },
    {
      "cell_type": "code",
      "metadata": {
        "id": "U-R5Rbcyd7Kc"
      },
      "source": [
        "'''\n",
        "Loads and maps the validation split of the dataset using the map function. \n",
        "Note that we try to load the gcs version since TPU can only work with datasets on Google Cloud Storage.\n",
        "'''  \n",
        "def get_validation_dataset():\n",
        "    dataset = tfds.load(\"mnist\", split=\"test\", as_supervised=True, try_gcs=True)\n",
        "    dataset = dataset.map(read_image_tfds, num_parallel_calls=16)\n",
        "\n",
        "    dataset = dataset.batch(10000, drop_remainder=True) # 10000 items in eval dataset, all in one batch\n",
        "    dataset = dataset.repeat() # Mandatory for Keras for now\n",
        "    return dataset"
      ],
      "execution_count": 13,
      "outputs": []
    },
    {
      "cell_type": "code",
      "metadata": {
        "id": "t22glfpkeMu9"
      },
      "source": [
        "#instantiate the datasets\n",
        "with strategy.scope():\n",
        "  training_dataset = get_training_dataset()\n",
        "  validation_dataset = get_validation_dataset()"
      ],
      "execution_count": 14,
      "outputs": []
    },
    {
      "cell_type": "markdown",
      "metadata": {
        "id": "_fXo6GuvL3EB"
      },
      "source": [
        "### Visualize Data"
      ]
    },
    {
      "cell_type": "code",
      "metadata": {
        "id": "yZ4tjPKvL2eh",
        "colab": {
          "base_uri": "https://localhost:8080/",
          "height": 429
        },
        "outputId": "195abcf8-1e5e-4a06-d2d8-f16cd025e377"
      },
      "source": [
        "(training_digits, training_labels, training_bboxes,\n",
        " validation_digits, validation_labels, validation_bboxes) = dataset_to_numpy_util(training_dataset, validation_dataset, 10)\n",
        "\n",
        "display_digits_with_boxes(training_digits, training_labels, training_labels, np.array([]), training_bboxes, np.array([]), \"training digits and their labels\")\n",
        "display_digits_with_boxes(validation_digits, validation_labels, validation_labels, np.array([]), validation_bboxes, np.array([]), \"validation digits and their labels\")\n"
      ],
      "execution_count": 17,
      "outputs": [
        {
          "output_type": "display_data",
          "data": {
            "image/png": "[encoded data removed]",
            "text/plain": [
              "<Figure size 1440x288 with 11 Axes>"
            ]
          },
          "metadata": {
            "tags": []
          }
        },
        {
          "output_type": "display_data",
          "data": {
            "image/png": "[encoded data removed]",
            "text/plain": [
              "<Figure size 1440x288 with 11 Axes>"
            ]
          },
          "metadata": {
            "tags": []
          }
        }
      ]
    },
    {
      "cell_type": "markdown",
      "metadata": {
        "id": "f8nHWWkS_eeZ"
      },
      "source": [
        "## Define the Network\n",
        "\n",
        "Here, you'll define your custom CNN. \n",
        "- `feature_extractor`: these convolutional layers extract the features of the image.\n",
        "- `classifier`:  This define the output layer that predicts among 10 categories (digits 0 through 9)\n",
        "- `bounding_box_regression`: This defines the output layer that predicts 4 numeric values, which define the coordinates of the bounding box (xmin, ymin, xmax, ymax)\n",
        "- `final_model`: This combines the layers for feature extraction, classification and bounding box prediction.  \n",
        "  - Notice that this is another example of a branching model, because the model splits to produce two kinds of output (a category and set of numbers).  \n",
        "  - Since you've learned to use the Functional API earlier in the specialization (course 1), you have the flexibility to define this kind of branching model!\n",
        "- `define_and_compile_model`: choose the optimizer and metrics, then compile the model."
      ]
    },
    {
      "cell_type": "code",
      "metadata": {
        "id": "56y8UNFQIVwj"
      },
      "source": [
        "'''\n",
        "Feature extractor is the CNN that is made up of convolution and pooling layers.\n",
        "'''\n",
        "def feature_extractor(inputs):\n",
        "    x = tf.keras.layers.Conv2D(filters=16, activation=tf.nn.relu, kernel_size=3, input_shape=(75, 75, 1))(inputs)\n",
        "    x = tf.keras.layers.AveragePooling2D((2, 2))(x)\n",
        "\n",
        "    x = tf.keras.layers.Conv2D(filters=32,kernel_size=3,activation=tf.nn.relu)(x)\n",
        "    x = tf.keras.layers.AveragePooling2D((2, 2))(x)\n",
        "\n",
        "    x = tf.keras.layers.Conv2D(filters=64,kernel_size=3,activation=tf.nn.relu)(x)\n",
        "    x = tf.keras.layers.AveragePooling2D((2, 2))(x)\n",
        "\n",
        "    return x"
      ],
      "execution_count": 27,
      "outputs": []
    },
    {
      "cell_type": "code",
      "metadata": {
        "id": "L2D4oVMUmTWs"
      },
      "source": [
        "'''\n",
        "dense_layers adds a flatten and dense layer.\n",
        "This will follow the feature extraction layers\n",
        "'''\n",
        "def dense_layers(inputs):\n",
        "  x = tf.keras.layers.Flatten()(inputs)\n",
        "  x = tf.keras.layers.Dense(units=128, activation=tf.nn.relu)(x)\n",
        "  \n",
        "  return x"
      ],
      "execution_count": 22,
      "outputs": []
    },
    {
      "cell_type": "code",
      "metadata": {
        "id": "aiwHOioSmdfc"
      },
      "source": [
        "'''\n",
        "Classifier defines the classification output.\n",
        "This has a set of fully connected layers and a softmax layer.\n",
        "'''\n",
        "def classifier(inputs):\n",
        "\n",
        "  classification_output = tf.keras.layers.Dense(units=10, activation=tf.nn.softmax, name = 'classification')(inputs)\n",
        "  \n",
        "  return classification_output"
      ],
      "execution_count": 21,
      "outputs": []
    },
    {
      "cell_type": "code",
      "metadata": {
        "id": "vWbguPKemmg2"
      },
      "source": [
        "'''\n",
        "This function defines the regression output for bounding box prediction. \n",
        "Note that we have four outputs corresponding to (xmin, ymin, xmax, ymax)\n",
        "'''\n",
        "def bounding_box_regression(inputs):\n",
        "    bounding_box_regression_output = tf.keras.layers.Dense(units=4, name = 'bounding_box')(inputs)\n",
        "    return bounding_box_regression_output"
      ],
      "execution_count": 23,
      "outputs": []
    },
    {
      "cell_type": "code",
      "metadata": {
        "id": "wGUxf6QRm0El"
      },
      "source": [
        "def final_model(inputs):\n",
        "    feature_cnn = feature_extractor(inputs)\n",
        "    dense_output = dense_layers(feature_cnn)\n",
        "\n",
        "    '''\n",
        "    The model branches here.  \n",
        "    The dense layer's output gets fed into two branches:\n",
        "    classification_output and bounding_box_output\n",
        "    '''\n",
        "    classification_output = classifier(dense_output)\n",
        "    bounding_box_output = bounding_box_regression(dense_output)\n",
        "\n",
        "    model = tf.keras.Model(inputs = inputs, outputs = [classification_output, bounding_box_output])\n",
        "\n",
        "    return model"
      ],
      "execution_count": 24,
      "outputs": []
    },
    {
      "cell_type": "code",
      "metadata": {
        "id": "fSN0NPwcngIh"
      },
      "source": [
        "def define_and_compile_model(inputs):\n",
        "  model = final_model(inputs)\n",
        "  \n",
        "  model.compile(optimizer='adam',  loss = {'classification' : 'categorical_crossentropy', 'bounding_box' : 'mse'},\n",
        "                metrics = {'classification' : 'accuracy', 'bounding_box' : 'mse'})\n",
        "  \n",
        "  return model"
      ],
      "execution_count": 25,
      "outputs": []
    },
    {
      "cell_type": "code",
      "metadata": {
        "id": "cFnQcnNdnyc4"
      },
      "source": [
        "with strategy.scope():\n",
        "  inputs = tf.keras.layers.Input(shape=(75, 75, 1,))\n",
        "  model = define_and_compile_model(inputs)"
      ],
      "execution_count": 28,
      "outputs": []
    },
    {
      "cell_type": "code",
      "metadata": {
        "colab": {
          "base_uri": "https://localhost:8080/"
        },
        "id": "hProlCYWn1U5",
        "outputId": "a7fa2cb4-ddfe-46b4-9cdd-ad7650271b60"
      },
      "source": [
        "# print model layers\n",
        "model.summary()"
      ],
      "execution_count": 29,
      "outputs": [
        {
          "output_type": "stream",
          "text": [
            "Model: \"model\"\n",
            "__________________________________________________________________________________________________\n",
            "Layer (type)                    Output Shape         Param #     Connected to                     \n",
            "==================================================================================================\n",
            "input_2 (InputLayer)            [(None, 75, 75, 1)]  0                                            \n",
            "__________________________________________________________________________________________________\n",
            "conv2d (Conv2D)                 (None, 73, 73, 16)   160         input_2[0][0]                    \n",
            "__________________________________________________________________________________________________\n",
            "average_pooling2d (AveragePooli (None, 36, 36, 16)   0           conv2d[0][0]                     \n",
            "__________________________________________________________________________________________________\n",
            "conv2d_1 (Conv2D)               (None, 34, 34, 32)   4640        average_pooling2d[0][0]          \n",
            "__________________________________________________________________________________________________\n",
            "average_pooling2d_1 (AveragePoo (None, 17, 17, 32)   0           conv2d_1[0][0]                   \n",
            "__________________________________________________________________________________________________\n",
            "conv2d_2 (Conv2D)               (None, 15, 15, 64)   18496       average_pooling2d_1[0][0]        \n",
            "__________________________________________________________________________________________________\n",
            "average_pooling2d_2 (AveragePoo (None, 7, 7, 64)     0           conv2d_2[0][0]                   \n",
            "__________________________________________________________________________________________________\n",
            "flatten (Flatten)               (None, 3136)         0           average_pooling2d_2[0][0]        \n",
            "__________________________________________________________________________________________________\n",
            "dense (Dense)                   (None, 128)          401536      flatten[0][0]                    \n",
            "__________________________________________________________________________________________________\n",
            "classification (Dense)          (None, 10)           1290        dense[0][0]                      \n",
            "__________________________________________________________________________________________________\n",
            "bounding_box (Dense)            (None, 4)            516         dense[0][0]                      \n",
            "==================================================================================================\n",
            "Total params: 426,638\n",
            "Trainable params: 426,638\n",
            "Non-trainable params: 0\n",
            "__________________________________________________________________________________________________\n"
          ],
          "name": "stdout"
        }
      ]
    },
    {
      "cell_type": "markdown",
      "metadata": {
        "id": "CuhDh8ao8VyB"
      },
      "source": [
        "### Train and validate the model"
      ]
    },
    {
      "cell_type": "markdown",
      "metadata": {
        "id": "kv0BQTPsKrkt"
      },
      "source": [
        "Train the model.  \n",
        "- You can choose the number of epochs depending on the level of performance that you want and the time that you have.\n",
        "- Each epoch will take just a few seconds if you're using the TPU."
      ]
    },
    {
      "cell_type": "code",
      "metadata": {
        "id": "TTwH_P-ZJ_xx",
        "colab": {
          "base_uri": "https://localhost:8080/"
        },
        "outputId": "f29c14af-0c7b-42e3-febe-7d091962909e"
      },
      "source": [
        "EPOCHS = 20 \n",
        "steps_per_epoch = 60000//BATCH_SIZE  \n",
        "validation_steps = 1\n",
        "\n",
        "history = model.fit(training_dataset, steps_per_epoch=steps_per_epoch, \n",
        "                    validation_data=validation_dataset, validation_steps=validation_steps, \n",
        "                    epochs=EPOCHS)\n",
        "\n",
        "loss, classification_loss, bounding_box_loss, classification_accuracy, bounding_box_mse = model.evaluate(validation_dataset, steps=1)\n",
        "print(\"Validation accuracy: \", classification_accuracy)"
      ],
      "execution_count": 31,
      "outputs": [
        {
          "output_type": "stream",
          "text": [
            "Epoch 1/20\n",
            "117/117 [==============================] - 8s 33ms/step - loss: 2.0984 - classification_loss: 2.0766 - bounding_box_loss: 0.0218 - classification_accuracy: 0.2230 - bounding_box_mse: 0.0218 - val_loss: 1.6069 - val_classification_loss: 1.5986 - val_bounding_box_loss: 0.0083 - val_classification_accuracy: 0.4006 - val_bounding_box_mse: 0.0083\n",
            "Epoch 2/20\n",
            "117/117 [==============================] - 3s 25ms/step - loss: 1.2244 - classification_loss: 1.2110 - bounding_box_loss: 0.0134 - classification_accuracy: 0.5806 - bounding_box_mse: 0.0134 - val_loss: 0.8456 - val_classification_loss: 0.8252 - val_bounding_box_loss: 0.0204 - val_classification_accuracy: 0.7264 - val_bounding_box_mse: 0.0204\n",
            "Epoch 3/20\n",
            "117/117 [==============================] - 3s 24ms/step - loss: 0.6381 - classification_loss: 0.6214 - bounding_box_loss: 0.0167 - classification_accuracy: 0.8083 - bounding_box_mse: 0.0167 - val_loss: 0.4781 - val_classification_loss: 0.4654 - val_bounding_box_loss: 0.0127 - val_classification_accuracy: 0.8566 - val_bounding_box_mse: 0.0127\n",
            "Epoch 4/20\n",
            "117/117 [==============================] - 3s 24ms/step - loss: 0.4314 - classification_loss: 0.4193 - bounding_box_loss: 0.0121 - classification_accuracy: 0.8738 - bounding_box_mse: 0.0121 - val_loss: 0.3395 - val_classification_loss: 0.3286 - val_bounding_box_loss: 0.0109 - val_classification_accuracy: 0.9025 - val_bounding_box_mse: 0.0109\n",
            "Epoch 5/20\n",
            "117/117 [==============================] - 3s 23ms/step - loss: 0.3468 - classification_loss: 0.3374 - bounding_box_loss: 0.0094 - classification_accuracy: 0.8981 - bounding_box_mse: 0.0094 - val_loss: 0.3221 - val_classification_loss: 0.3135 - val_bounding_box_loss: 0.0086 - val_classification_accuracy: 0.9010 - val_bounding_box_mse: 0.0086\n",
            "Epoch 6/20\n",
            "117/117 [==============================] - 3s 23ms/step - loss: 0.3076 - classification_loss: 0.2998 - bounding_box_loss: 0.0078 - classification_accuracy: 0.9096 - bounding_box_mse: 0.0078 - val_loss: 0.2550 - val_classification_loss: 0.2485 - val_bounding_box_loss: 0.0065 - val_classification_accuracy: 0.9232 - val_bounding_box_mse: 0.0065\n",
            "Epoch 7/20\n",
            "117/117 [==============================] - 3s 23ms/step - loss: 0.2562 - classification_loss: 0.2499 - bounding_box_loss: 0.0063 - classification_accuracy: 0.9245 - bounding_box_mse: 0.0063 - val_loss: 0.2233 - val_classification_loss: 0.2177 - val_bounding_box_loss: 0.0056 - val_classification_accuracy: 0.9330 - val_bounding_box_mse: 0.0056\n",
            "Epoch 8/20\n",
            "117/117 [==============================] - 3s 23ms/step - loss: 0.2424 - classification_loss: 0.2365 - bounding_box_loss: 0.0059 - classification_accuracy: 0.9294 - bounding_box_mse: 0.0059 - val_loss: 0.2046 - val_classification_loss: 0.1993 - val_bounding_box_loss: 0.0053 - val_classification_accuracy: 0.9376 - val_bounding_box_mse: 0.0053\n",
            "Epoch 9/20\n",
            "117/117 [==============================] - 3s 23ms/step - loss: 0.2154 - classification_loss: 0.2103 - bounding_box_loss: 0.0051 - classification_accuracy: 0.9364 - bounding_box_mse: 0.0051 - val_loss: 0.1840 - val_classification_loss: 0.1793 - val_bounding_box_loss: 0.0047 - val_classification_accuracy: 0.9458 - val_bounding_box_mse: 0.0047\n",
            "Epoch 10/20\n",
            "117/117 [==============================] - 3s 23ms/step - loss: 0.1964 - classification_loss: 0.1919 - bounding_box_loss: 0.0045 - classification_accuracy: 0.9412 - bounding_box_mse: 0.0045 - val_loss: 0.1630 - val_classification_loss: 0.1586 - val_bounding_box_loss: 0.0044 - val_classification_accuracy: 0.9510 - val_bounding_box_mse: 0.0044\n",
            "Epoch 11/20\n",
            "117/117 [==============================] - 3s 23ms/step - loss: 0.1916 - classification_loss: 0.1873 - bounding_box_loss: 0.0043 - classification_accuracy: 0.9428 - bounding_box_mse: 0.0043 - val_loss: 0.1505 - val_classification_loss: 0.1463 - val_bounding_box_loss: 0.0042 - val_classification_accuracy: 0.9529 - val_bounding_box_mse: 0.0042\n",
            "Epoch 12/20\n",
            "117/117 [==============================] - 3s 24ms/step - loss: 0.1735 - classification_loss: 0.1696 - bounding_box_loss: 0.0039 - classification_accuracy: 0.9489 - bounding_box_mse: 0.0039 - val_loss: 0.1414 - val_classification_loss: 0.1377 - val_bounding_box_loss: 0.0037 - val_classification_accuracy: 0.9569 - val_bounding_box_mse: 0.0037\n",
            "Epoch 13/20\n",
            "117/117 [==============================] - 3s 24ms/step - loss: 0.1623 - classification_loss: 0.1588 - bounding_box_loss: 0.0035 - classification_accuracy: 0.9522 - bounding_box_mse: 0.0035 - val_loss: 0.1318 - val_classification_loss: 0.1282 - val_bounding_box_loss: 0.0036 - val_classification_accuracy: 0.9629 - val_bounding_box_mse: 0.0036\n",
            "Epoch 14/20\n",
            "117/117 [==============================] - 3s 24ms/step - loss: 0.1563 - classification_loss: 0.1530 - bounding_box_loss: 0.0033 - classification_accuracy: 0.9540 - bounding_box_mse: 0.0033 - val_loss: 0.1332 - val_classification_loss: 0.1300 - val_bounding_box_loss: 0.0032 - val_classification_accuracy: 0.9609 - val_bounding_box_mse: 0.0032\n",
            "Epoch 15/20\n",
            "117/117 [==============================] - 3s 23ms/step - loss: 0.1459 - classification_loss: 0.1430 - bounding_box_loss: 0.0029 - classification_accuracy: 0.9572 - bounding_box_mse: 0.0029 - val_loss: 0.1545 - val_classification_loss: 0.1513 - val_bounding_box_loss: 0.0032 - val_classification_accuracy: 0.9547 - val_bounding_box_mse: 0.0032\n",
            "Epoch 16/20\n",
            "117/117 [==============================] - 3s 24ms/step - loss: 0.1414 - classification_loss: 0.1385 - bounding_box_loss: 0.0029 - classification_accuracy: 0.9584 - bounding_box_mse: 0.0029 - val_loss: 0.1228 - val_classification_loss: 0.1201 - val_bounding_box_loss: 0.0027 - val_classification_accuracy: 0.9644 - val_bounding_box_mse: 0.0027\n",
            "Epoch 17/20\n",
            "117/117 [==============================] - 3s 24ms/step - loss: 0.1360 - classification_loss: 0.1333 - bounding_box_loss: 0.0027 - classification_accuracy: 0.9594 - bounding_box_mse: 0.0027 - val_loss: 0.1086 - val_classification_loss: 0.1062 - val_bounding_box_loss: 0.0024 - val_classification_accuracy: 0.9671 - val_bounding_box_mse: 0.0024\n",
            "Epoch 18/20\n",
            "117/117 [==============================] - 3s 24ms/step - loss: 0.1282 - classification_loss: 0.1257 - bounding_box_loss: 0.0025 - classification_accuracy: 0.9623 - bounding_box_mse: 0.0025 - val_loss: 0.1258 - val_classification_loss: 0.1234 - val_bounding_box_loss: 0.0025 - val_classification_accuracy: 0.9605 - val_bounding_box_mse: 0.0025\n",
            "Epoch 19/20\n",
            "117/117 [==============================] - 3s 24ms/step - loss: 0.1277 - classification_loss: 0.1254 - bounding_box_loss: 0.0024 - classification_accuracy: 0.9611 - bounding_box_mse: 0.0024 - val_loss: 0.1039 - val_classification_loss: 0.1011 - val_bounding_box_loss: 0.0028 - val_classification_accuracy: 0.9678 - val_bounding_box_mse: 0.0028\n",
            "Epoch 20/20\n",
            "117/117 [==============================] - 3s 24ms/step - loss: 0.1181 - classification_loss: 0.1159 - bounding_box_loss: 0.0022 - classification_accuracy: 0.9651 - bounding_box_mse: 0.0022 - val_loss: 0.1019 - val_classification_loss: 0.0997 - val_bounding_box_loss: 0.0022 - val_classification_accuracy: 0.9687 - val_bounding_box_mse: 0.0022\n",
            "1/1 [==============================] - 1s 830ms/step - loss: 0.1070 - classification_loss: 0.1048 - bounding_box_loss: 0.0022 - classification_accuracy: 0.9674 - bounding_box_mse: 0.0022\n",
            "Validation accuracy:  0.9673999547958374\n"
          ],
          "name": "stdout"
        }
      ]
    },
    {
      "cell_type": "code",
      "metadata": {
        "id": "Cz-b8TxU6EDj",
        "colab": {
          "base_uri": "https://localhost:8080/",
          "height": 284
        },
        "outputId": "52b8c58f-7949-4709-e6dc-f7a5d0e86e2c"
      },
      "source": [
        "plot_metrics(\"classification_loss\", \"Classification Loss\")\n",
        "plot_metrics(\"bounding_box_loss\", \"Bounding Box Loss\")"
      ],
      "execution_count": 32,
      "outputs": [
        {
          "output_type": "display_data",
          "data": {
            "image/png": "[encoded data removed]",
            "text/plain": [
              "<Figure size 432x288 with 1 Axes>"
            ]
          },
          "metadata": {
            "tags": []
          }
        }
      ]
    },
    {
      "cell_type": "markdown",
      "metadata": {
        "id": "3FBn4V5-Krkt"
      },
      "source": [
        "## Intersection over union\n",
        "\n",
        "Calculate the I-O-U metric to evaluate the model's performance."
      ]
    },
    {
      "cell_type": "code",
      "metadata": {
        "id": "YFqJxt3_VrCm"
      },
      "source": [
        "def intersection_over_union(pred_box, true_box):\n",
        "    xmin_pred, ymin_pred, xmax_pred, ymax_pred =  np.split(pred_box, 4, axis = 1)\n",
        "    xmin_true, ymin_true, xmax_true, ymax_true = np.split(true_box, 4, axis = 1)\n",
        "\n",
        "    smoothing_factor = 1e-10\n",
        "\n",
        "    xmin_overlap = np.maximum(xmin_pred, xmin_true)\n",
        "    xmax_overlap = np.minimum(xmax_pred, xmax_true)\n",
        "    ymin_overlap = np.maximum(ymin_pred, ymin_true)\n",
        "    ymax_overlap = np.minimum(ymax_pred, ymax_true)\n",
        "\n",
        "    pred_box_area = (xmax_pred - xmin_pred) * (ymax_pred - ymin_pred)\n",
        "    true_box_area = (xmax_true - xmin_true) * (ymax_true - ymin_true)\n",
        "\n",
        "    overlap_area = np.maximum((xmax_overlap - xmin_overlap), 0)  * np.maximum((ymax_overlap - ymin_overlap), 0)\n",
        "    union_area = (pred_box_area + true_box_area) - overlap_area\n",
        "    \n",
        "    iou = (overlap_area + smoothing_factor) / (union_area + smoothing_factor)\n",
        "\n",
        "    return iou"
      ],
      "execution_count": 33,
      "outputs": []
    },
    {
      "cell_type": "markdown",
      "metadata": {
        "id": "9jFVovcUUVs1"
      },
      "source": [
        "### Visualize predictions\n",
        "The following code will make predictions and visualize both the classification and the predicted bounding boxes.\n",
        "- The true bounding box labels will be in green, and the model's predicted bounding boxes are in red.\n",
        "- The predicted number is shown below the image."
      ]
    },
    {
      "cell_type": "code",
      "metadata": {
        "id": "w12OId8Mz7dF",
        "colab": {
          "base_uri": "https://localhost:8080/",
          "height": 257
        },
        "outputId": "7f43d55b-13ae-4e19-aa5b-f384767e7eb2"
      },
      "source": [
        "# recognize validation digits\n",
        "predictions = model.predict(validation_digits, batch_size=64)\n",
        "predicted_labels = np.argmax(predictions[0], axis=1)\n",
        "\n",
        "predicted_bboxes = predictions[1]\n",
        "\n",
        "iou = intersection_over_union(predicted_bboxes, validation_bboxes)\n",
        "\n",
        "iou_threshold = 0.6\n",
        "\n",
        "print(\"Number of predictions where iou > threshold(%s): %s\" % (iou_threshold, (iou >= iou_threshold).sum()))\n",
        "print(\"Number of predictions where iou < threshold(%s): %s\" % (iou_threshold, (iou < iou_threshold).sum()))\n",
        "\n",
        "\n",
        "display_digits_with_boxes(validation_digits, predicted_labels, validation_labels, predicted_bboxes, validation_bboxes, iou, \"True and Predicted values\")"
      ],
      "execution_count": 34,
      "outputs": [
        {
          "output_type": "stream",
          "text": [
            "Number of predictions where iou > threshold(0.6): 8104\n",
            "Number of predictions where iou < threshold(0.6): 1896\n"
          ],
          "name": "stdout"
        },
        {
          "output_type": "display_data",
          "data": {
            "image/png": "[encoded data removed]",
            "text/plain": [
              "<Figure size 1440x288 with 11 Axes>"
            ]
          },
          "metadata": {
            "tags": []
          }
        }
      ]
    }
  ]
}